{
 "cells": [
  {
   "cell_type": "markdown",
   "id": "f0e3bb69-6ca0-4a59-b171-209c3fe6656f",
   "metadata": {},
   "source": [
    "# Data Science Tools and Ecosystem"
   ]
  },
  {
   "cell_type": "markdown",
   "id": "df80a28b-ecba-4be7-a99f-bfe49c80a314",
   "metadata": {},
   "source": [
    "## Author\n",
    "Yu-Ping Lin"
   ]
  },
  {
   "cell_type": "markdown",
   "id": "2c5a81df-0557-4ea6-9c24-90c2fb9f6a43",
   "metadata": {},
   "source": [
    "In this notebook, Data Science Tools and Ecosystem are summarized."
   ]
  },
  {
   "cell_type": "markdown",
   "id": "231409dc-d5a9-48a6-b2c0-d4cd36fb881e",
   "metadata": {},
   "source": [
    "**Objectives:**\n",
    "- List popular languages for Data Science\n",
    "- List commonly used libraries for Data Science\n",
    "- List popular Data Science Tools\n",
    "- Simple arithmetics"
   ]
  },
  {
   "cell_type": "markdown",
   "id": "cb181c14-6966-4cbb-832f-7f16c70d4f1b",
   "metadata": {},
   "source": [
    "Some of the popular languages that Data Scientists use are:\n",
    "1. Python\n",
    "2. R\n",
    "3. Julia"
   ]
  },
  {
   "cell_type": "markdown",
   "id": "f99a69d0-9822-48f7-8cc5-60099d8912b9",
   "metadata": {},
   "source": [
    "Some of the commonly used libraries used by Data Scientists include:\n",
    "1. Numpy\n",
    "2. Pandas\n",
    "3. Matplotlib"
   ]
  },
  {
   "cell_type": "markdown",
   "id": "99d51baf-8cc8-4855-b71d-001408da134c",
   "metadata": {},
   "source": [
    "|Data Science Tools|\n",
    "|-|\n",
    "|JupyterNotebook|\n",
    "|JupyterLab|\n",
    "|Spyder| "
   ]
  },
  {
   "cell_type": "markdown",
   "id": "2a2deba5-403b-4dcd-82f2-0028aadeb9b6",
   "metadata": {},
   "source": [
    "### Below are a few examples of evaluating arithmetic expressions in Python."
   ]
  },
  {
   "cell_type": "code",
   "execution_count": 2,
   "id": "c098c92b-a5ba-442c-8bd8-41890b6b60b7",
   "metadata": {},
   "outputs": [
    {
     "data": {
      "text/plain": [
       "17"
      ]
     },
     "execution_count": 2,
     "metadata": {},
     "output_type": "execute_result"
    }
   ],
   "source": [
    "# This is a simple arithmetic expression to multiply then add integers.\n",
    "(3*4)+5"
   ]
  },
  {
   "cell_type": "code",
   "execution_count": 4,
   "id": "9ce72b58-ee4c-4ccc-b8d2-a8a92b633c8a",
   "metadata": {},
   "outputs": [
    {
     "data": {
      "text/plain": [
       "3.3333333333333335"
      ]
     },
     "execution_count": 4,
     "metadata": {},
     "output_type": "execute_result"
    }
   ],
   "source": [
    "# This will convert 200 minutes to hours by dividing by 60.\n",
    "200/60"
   ]
  },
  {
   "cell_type": "markdown",
   "id": "8050c744-0885-47d3-831a-2ea4f5bb9ef2",
   "metadata": {},
   "source": []
  }
 ],
 "metadata": {
  "kernelspec": {
   "display_name": "Python 3 (ipykernel)",
   "language": "python",
   "name": "python3"
  },
  "language_info": {
   "codemirror_mode": {
    "name": "ipython",
    "version": 3
   },
   "file_extension": ".py",
   "mimetype": "text/x-python",
   "name": "python",
   "nbconvert_exporter": "python",
   "pygments_lexer": "ipython3",
   "version": "3.13.3"
  }
 },
 "nbformat": 4,
 "nbformat_minor": 5
}
